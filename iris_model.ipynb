{
 "cells": [
  {
   "cell_type": "code",
   "execution_count": 8,
   "id": "18db8dd1-deb1-4bd9-9965-556436507e1a",
   "metadata": {},
   "outputs": [],
   "source": [
    "from sklearn.datasets import load_iris\n",
    "from sklearn.model_selection import train_test_split\n",
    "from sklearn.ensemble import RandomForestClassifier\n",
    "import numpy as np"
   ]
  },
  {
   "cell_type": "code",
   "execution_count": 9,
   "id": "eee10593-2fb7-4105-8cbf-b6980de56e9a",
   "metadata": {},
   "outputs": [],
   "source": [
    "iris = load_iris()"
   ]
  },
  {
   "cell_type": "code",
   "execution_count": 10,
   "id": "ad3abafc-0912-405c-b71e-770cb88f0aeb",
   "metadata": {},
   "outputs": [],
   "source": [
    "X_train, X_test, y_train, y_test = train_test_split(iris['data'], iris['target'], random_state=12)"
   ]
  },
  {
   "cell_type": "code",
   "execution_count": 19,
   "id": "0376a9e3-a822-4c42-86d7-b6143afa93b7",
   "metadata": {},
   "outputs": [
    {
     "name": "stdout",
     "output_type": "stream",
     "text": [
      "[[5.  3.5 1.3 0.3]\n",
      " [6.3 2.5 5.  1.9]\n",
      " [4.4 3.  1.3 0.2]\n",
      " [5.7 2.8 4.1 1.3]\n",
      " [6.8 3.2 5.9 2.3]\n",
      " [6.5 3.  5.5 1.8]\n",
      " [6.2 3.4 5.4 2.3]\n",
      " [5.1 3.4 1.5 0.2]\n",
      " [7.7 3.  6.1 2.3]\n",
      " [5.1 3.3 1.7 0.5]\n",
      " [5.6 3.  4.5 1.5]\n",
      " [5.4 3.9 1.3 0.4]\n",
      " [5.4 3.4 1.5 0.4]\n",
      " [5.1 3.7 1.5 0.4]\n",
      " [7.  3.2 4.7 1.4]\n",
      " [7.2 3.2 6.  1.8]\n",
      " [6.7 2.5 5.8 1.8]\n",
      " [5.9 3.  4.2 1.5]\n",
      " [4.6 3.4 1.4 0.3]\n",
      " [6.3 2.5 4.9 1.5]\n",
      " [4.9 3.  1.4 0.2]\n",
      " [6.1 2.8 4.  1.3]\n",
      " [6.2 2.8 4.8 1.8]\n",
      " [6.  2.9 4.5 1.5]\n",
      " [4.8 3.4 1.9 0.2]\n",
      " [6.7 3.  5.2 2.3]\n",
      " [6.7 3.  5.  1.7]\n",
      " [5.5 2.6 4.4 1.2]\n",
      " [4.8 3.4 1.6 0.2]\n",
      " [4.5 2.3 1.3 0.3]\n",
      " [5.1 3.5 1.4 0.3]\n",
      " [5.5 2.4 3.7 1. ]\n",
      " [6.3 2.9 5.6 1.8]\n",
      " [5.5 4.2 1.4 0.2]\n",
      " [5.8 2.7 5.1 1.9]\n",
      " [5.7 4.4 1.5 0.4]\n",
      " [5.6 2.9 3.6 1.3]\n",
      " [5.5 2.4 3.8 1.1]]\n"
     ]
    }
   ],
   "source": [
    "print(X_test)"
   ]
  },
  {
   "cell_type": "code",
   "execution_count": 20,
   "id": "f38163cc-f282-462b-a4bf-e301d191fd66",
   "metadata": {},
   "outputs": [
    {
     "name": "stdout",
     "output_type": "stream",
     "text": [
      "[0 2 0 1 2 2 2 0 2 0 1 0 0 0 1 2 2 1 0 1 0 1 2 1 0 2 1 1 0 0 0 1 2 0 2 0 1\n",
      " 1]\n"
     ]
    }
   ],
   "source": [
    "print(y_test)"
   ]
  },
  {
   "cell_type": "code",
   "execution_count": 15,
   "id": "1f6df9ec-97f4-4fd1-bbbf-0f9fbfb38f8b",
   "metadata": {},
   "outputs": [
    {
     "name": "stdout",
     "output_type": "stream",
     "text": [
      "<class 'numpy.ndarray'>\n"
     ]
    }
   ],
   "source": [
    "print(type(X_test))"
   ]
  },
  {
   "cell_type": "code",
   "execution_count": 16,
   "id": "b41a2341-4624-43d5-9566-19e271a84333",
   "metadata": {},
   "outputs": [],
   "source": [
    "sample_arr = [5.8, 4.0, 1.2, 0.2]\n",
    "\n",
    "sample_arr = np.array(sample_arr)"
   ]
  },
  {
   "cell_type": "code",
   "execution_count": 17,
   "id": "1b3e760c-efb2-4db2-96db-be243129053d",
   "metadata": {},
   "outputs": [
    {
     "name": "stdout",
     "output_type": "stream",
     "text": [
      "[5.8 4.  1.2 0.2]\n"
     ]
    }
   ],
   "source": [
    "print(sample_arr)"
   ]
  },
  {
   "cell_type": "code",
   "execution_count": 18,
   "id": "7037deda-c1b4-417a-b77f-88816ef6c96e",
   "metadata": {},
   "outputs": [
    {
     "name": "stdout",
     "output_type": "stream",
     "text": [
      "<class 'numpy.ndarray'>\n"
     ]
    }
   ],
   "source": [
    "print(type(sample_arr))"
   ]
  },
  {
   "cell_type": "code",
   "execution_count": null,
   "id": "98f10f97-faa8-4844-b2a5-2220a421b6bb",
   "metadata": {},
   "outputs": [],
   "source": []
  }
 ],
 "metadata": {
  "kernelspec": {
   "display_name": "Python 3 (ipykernel)",
   "language": "python",
   "name": "python3"
  },
  "language_info": {
   "codemirror_mode": {
    "name": "ipython",
    "version": 3
   },
   "file_extension": ".py",
   "mimetype": "text/x-python",
   "name": "python",
   "nbconvert_exporter": "python",
   "pygments_lexer": "ipython3",
   "version": "3.10.6"
  }
 },
 "nbformat": 4,
 "nbformat_minor": 5
}
